{
 "cells": [
  {
   "cell_type": "code",
   "execution_count": 1,
   "metadata": {},
   "outputs": [],
   "source": [
    "import pandas as pd"
   ]
  },
  {
   "cell_type": "code",
   "execution_count": 7,
   "metadata": {},
   "outputs": [],
   "source": [
    "df_train = pd.read_csv(\"../data_models/df_train.csv\")\n",
    "df_test = pd.read_csv(\"../data_models/df_test.csv\")"
   ]
  },
  {
   "cell_type": "code",
   "execution_count": 8,
   "metadata": {},
   "outputs": [],
   "source": [
    "X_train = df_train[\"text_clean\"]\n",
    "X_test = df_test[\"text_clean\"]\n",
    "\n",
    "y_train = df_train[\"Insult\"].values\n",
    "y_test = df_test[\"Insult\"].values"
   ]
  },
  {
   "cell_type": "code",
   "execution_count": 9,
   "metadata": {},
   "outputs": [
    {
     "data": {
      "text/plain": [
       "0       if someone were to write a parody of a it woul...\n",
       "1       very sorry about robin however i can guarantee...\n",
       "2          damn vince you shit dont ever go right for you\n",
       "3       you are a asshole for putting addicts down why...\n",
       "4       think if a little man like pac makes floyd run...\n",
       "                              ...                        \n",
       "2639    there is no way roger maywheather said these t...\n",
       "2640    iain duncan smith is clearly a dangerous socio...\n",
       "2641    no fucking way you ca leave us ca you knock ov...\n",
       "2642    you an idiot we should be sued for all the shi...\n",
       "2643    shut the fuck up so where do you shop your clo...\n",
       "Name: text_clean, Length: 2644, dtype: object"
      ]
     },
     "execution_count": 9,
     "metadata": {},
     "output_type": "execute_result"
    }
   ],
   "source": [
    "X_train"
   ]
  },
  {
   "cell_type": "code",
   "execution_count": null,
   "metadata": {},
   "outputs": [],
   "source": []
  }
 ],
 "metadata": {
  "kernelspec": {
   "display_name": "tf2",
   "language": "python",
   "name": "python3"
  },
  "language_info": {
   "codemirror_mode": {
    "name": "ipython",
    "version": 3
   },
   "file_extension": ".py",
   "mimetype": "text/x-python",
   "name": "python",
   "nbconvert_exporter": "python",
   "pygments_lexer": "ipython3",
   "version": "3.7.16"
  },
  "orig_nbformat": 4
 },
 "nbformat": 4,
 "nbformat_minor": 2
}
