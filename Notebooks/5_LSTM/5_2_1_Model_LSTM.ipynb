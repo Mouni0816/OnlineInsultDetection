{
  "cells": [
    {
      "cell_type": "code",
      "execution_count": 12,
      "metadata": {
        "id": "P3k07XaLc-Dx"
      },
      "outputs": [],
      "source": [
        "import numpy as np\n",
        "import pandas as pd\n",
        "from matplotlib import pyplot as plt\n",
        "from sklearn.model_selection import train_test_split\n",
        "from tensorflow.keras.models import Sequential\n",
        "from tensorflow.keras.layers import Dense, Embedding, LSTM, Dropout\n",
        "from tensorflow.keras.preprocessing.text import Tokenizer\n",
        "from tensorflow.keras.preprocessing.sequence import pad_sequences\n",
        "from tensorflow.keras import backend as K\n",
        "import seaborn as sns\n",
        "import numpy as np\n",
        "from sklearn.metrics import confusion_matrix\n",
        "#from Fonctions_utils import f1_m, matrix_confusion\n",
        "from sklearn.metrics import classification_report\n",
        "import seaborn as sns\n",
        "from sklearn.metrics import confusion_matrix"
      ]
    },
    {
      "cell_type": "code",
      "execution_count": 13,
      "metadata": {
        "id": "qFTrewSXsvou"
      },
      "outputs": [],
      "source": [
        "def matrix_confusion(y_test, y_pred):\n",
        "    cf_matrix = confusion_matrix(y_test, y_pred)\n",
        "    sns.heatmap(cf_matrix/np.sum(cf_matrix), annot=True, fmt='.2%', cmap='Blues')\n",
        "def f1_m(y_true, y_pred):\n",
        "    precision = precision_m(y_true, y_pred)\n",
        "    recall = recall_m(y_true, y_pred)\n",
        "    return 2*((precision*recall)/(precision+recall+K.epsilon()))\n",
        "def precision_m(y_true, y_pred):\n",
        "    true_positives = K.sum(K.round(K.clip(y_true * y_pred, 0, 1)))\n",
        "    predicted_positives = K.sum(K.round(K.clip(y_pred, 0, 1)))\n",
        "    precision = true_positives / (predicted_positives + K.epsilon())\n",
        "    return precision\n",
        "def recall_m(y_true, y_pred):\n",
        "    true_positives = K.sum(K.round(K.clip(y_true * y_pred, 0, 1)))\n",
        "    possible_positives = K.sum(K.round(K.clip(y_true, 0, 1)))\n",
        "    recall = true_positives / (possible_positives + K.epsilon())\n",
        "    return recall\n",
        "\n"
      ]
    },
    {
      "cell_type": "code",
      "execution_count": 14,
      "metadata": {
        "id": "TlOiMvDufECo"
      },
      "outputs": [],
      "source": [
        "df_train = pd.read_csv(\"df_train_undersampling.csv\")\n",
        "df_val = pd.read_csv(\"df_val.csv\")\n",
        "df_test = pd.read_csv(\"df_test.csv\")"
      ]
    },
    {
      "cell_type": "code",
      "execution_count": 15,
      "metadata": {
        "id": "6uW_MxJefmuI"
      },
      "outputs": [],
      "source": [
        "sentences_train = df_train[\"text_clean\"].values.astype(str)\n",
        "sentences_val = df_val[\"text_clean\"].values.astype(str)\n",
        "sentences_test = df_test[\"text_clean\"].values.astype(str)\n",
        "\n",
        "y_train = np.array(df_train['Insult'])\n",
        "y_val =np.array(df_val['Insult'])\n",
        "y_test = np.array(df_test['Insult'])\n",
        "\n"
      ]
    },
    {
      "cell_type": "code",
      "execution_count": 16,
      "metadata": {
        "id": "yKqoQF9kgPkp",
        "colab": {
          "base_uri": "https://localhost:8080/",
          "height": 600
        },
        "outputId": "b750b70b-3325-4041-eabf-305987390428"
      },
      "outputs": [
        {
          "output_type": "stream",
          "name": "stdout",
          "text": [
            "Epoch 1/10\n",
            "12/12 [==============================] - 87s 7s/step - loss: 0.6913 - f1_m: 0.6470 - accuracy: 0.5451 - val_loss: 0.6966 - val_f1_m: 0.4609 - val_accuracy: 0.4284\n",
            "Epoch 2/10\n",
            "12/12 [==============================] - 76s 7s/step - loss: 0.6738 - f1_m: 0.7435 - accuracy: 0.6762 - val_loss: 0.7075 - val_f1_m: 0.4857 - val_accuracy: 0.4726\n",
            "Epoch 3/10\n",
            "12/12 [==============================] - 76s 7s/step - loss: 0.6237 - f1_m: 0.7663 - accuracy: 0.7835 - val_loss: 0.6190 - val_f1_m: 0.6130 - val_accuracy: 0.7563\n",
            "Epoch 4/10\n",
            "12/12 [==============================] - 77s 7s/step - loss: 0.5273 - f1_m: 0.8484 - accuracy: 0.8511 - val_loss: 0.4387 - val_f1_m: 0.6108 - val_accuracy: 0.8047\n",
            "Epoch 5/10\n",
            "12/12 [==============================] - 77s 7s/step - loss: 0.4395 - f1_m: 0.8147 - accuracy: 0.8190 - val_loss: 0.7874 - val_f1_m: 0.5175 - val_accuracy: 0.5353\n",
            "Epoch 6/10\n",
            "12/12 [==============================] - 79s 7s/step - loss: 0.3648 - f1_m: 0.8802 - accuracy: 0.8668 - val_loss: 0.4915 - val_f1_m: 0.6027 - val_accuracy: 0.7544\n",
            "Epoch 7/10\n",
            "12/12 [==============================] - 78s 7s/step - loss: 0.2784 - f1_m: 0.9106 - accuracy: 0.9092 - val_loss: 0.4995 - val_f1_m: 0.6090 - val_accuracy: 0.7544\n",
            "Epoch 8/10\n",
            "12/12 [==============================] - 77s 7s/step - loss: 0.1780 - f1_m: 0.9423 - accuracy: 0.9413 - val_loss: 0.5516 - val_f1_m: 0.6111 - val_accuracy: 0.7514\n",
            "Epoch 9/10\n",
            "12/12 [==============================] - 77s 7s/step - loss: 0.1044 - f1_m: 0.9686 - accuracy: 0.9686 - val_loss: 0.6688 - val_f1_m: 0.6059 - val_accuracy: 0.7378\n",
            "Epoch 10/10\n",
            "12/12 [==============================] - 80s 7s/step - loss: 0.0618 - f1_m: 0.9822 - accuracy: 0.9822 - val_loss: 0.7869 - val_f1_m: 0.5926 - val_accuracy: 0.7242\n",
            "38/38 [==============================] - 13s 332ms/step - loss: 0.7687 - f1_m: 0.6238 - accuracy: 0.7519\n"
          ]
        },
        {
          "output_type": "error",
          "ename": "ValueError",
          "evalue": "ignored",
          "traceback": [
            "\u001b[0;31m---------------------------------------------------------------------------\u001b[0m",
            "\u001b[0;31mValueError\u001b[0m                                Traceback (most recent call last)",
            "\u001b[0;32m<ipython-input-16-f629b230da0f>\u001b[0m in \u001b[0;36m<cell line: 30>\u001b[0;34m()\u001b[0m\n\u001b[1;32m     28\u001b[0m \u001b[0;34m\u001b[0m\u001b[0m\n\u001b[1;32m     29\u001b[0m \u001b[0;31m# Evaluate the model\u001b[0m\u001b[0;34m\u001b[0m\u001b[0;34m\u001b[0m\u001b[0m\n\u001b[0;32m---> 30\u001b[0;31m \u001b[0mloss\u001b[0m\u001b[0;34m,\u001b[0m \u001b[0maccuracy\u001b[0m \u001b[0;34m=\u001b[0m \u001b[0mmodel\u001b[0m\u001b[0;34m.\u001b[0m\u001b[0mevaluate\u001b[0m\u001b[0;34m(\u001b[0m\u001b[0mval_padded_sequences\u001b[0m\u001b[0;34m,\u001b[0m \u001b[0mval_labels\u001b[0m\u001b[0;34m)\u001b[0m\u001b[0;34m\u001b[0m\u001b[0;34m\u001b[0m\u001b[0m\n\u001b[0m\u001b[1;32m     31\u001b[0m \u001b[0mprint\u001b[0m\u001b[0;34m(\u001b[0m\u001b[0;34m'Test Loss:'\u001b[0m\u001b[0;34m,\u001b[0m \u001b[0mloss\u001b[0m\u001b[0;34m)\u001b[0m\u001b[0;34m\u001b[0m\u001b[0;34m\u001b[0m\u001b[0m\n\u001b[1;32m     32\u001b[0m \u001b[0mprint\u001b[0m\u001b[0;34m(\u001b[0m\u001b[0;34m'Test Accuracy:'\u001b[0m\u001b[0;34m,\u001b[0m \u001b[0maccuracy\u001b[0m\u001b[0;34m)\u001b[0m\u001b[0;34m\u001b[0m\u001b[0;34m\u001b[0m\u001b[0m\n",
            "\u001b[0;31mValueError\u001b[0m: too many values to unpack (expected 2)"
          ]
        }
      ],
      "source": [
        "tokenizer = Tokenizer()\n",
        "tokenizer.fit_on_texts(sentences_train)\n",
        "train_sequences = tokenizer.texts_to_sequences(sentences_train)\n",
        "test_sequences = tokenizer.texts_to_sequences(sentences_test)\n",
        "val_sequences = tokenizer.texts_to_sequences(sentences_val)\n",
        "max_sequence_length = max([len(seq) for seq in train_sequences + test_sequences])\n",
        "\n",
        "train_padded_sequences = pad_sequences(train_sequences, maxlen=max_sequence_length)\n",
        "test_padded_sequences = pad_sequences(test_sequences, maxlen=max_sequence_length)\n",
        "val_padded_sequences = pad_sequences(val_sequences, maxlen=max_sequence_length)\n",
        "\n",
        "train_labels = y_train\n",
        "test_labels = y_test\n",
        "val_labels=y_val\n",
        "\n",
        "# Build the NN model\n",
        "model = Sequential()\n",
        "model.add(Embedding(input_dim=len(tokenizer.word_index)+1, output_dim=100, input_length=max_sequence_length))\n",
        "model.add(LSTM(100, dropout=0.2, recurrent_dropout=0.2))\n",
        "model.add(Dense(64, activation='relu'))\n",
        "model.add(Dropout(0.5))\n",
        "model.add(Dense(1, activation='sigmoid'))\n",
        "\n",
        "model.compile(loss='binary_crossentropy', optimizer='adam', metrics=[f1_m,'accuracy'])\n",
        "\n",
        "# Train the model\n",
        "history=model.fit(train_padded_sequences, train_labels, batch_size=128, epochs=10, validation_data=(test_padded_sequences, test_labels))\n"
      ]
    },
    {
      "cell_type": "code",
      "execution_count": 17,
      "metadata": {
        "id": "zKfItHdohBg8",
        "colab": {
          "base_uri": "https://localhost:8080/"
        },
        "outputId": "049cc3a3-25ab-4d24-a2f5-285a7d1ddbb2"
      },
      "outputs": [
        {
          "output_type": "stream",
          "name": "stdout",
          "text": [
            "38/38 [==============================] - 13s 335ms/step\n"
          ]
        }
      ],
      "source": [
        "y_predict_test = model.predict(val_padded_sequences)\n",
        "y_predict_test2 = [round(item) for sublist in y_predict_test.tolist() for item in sublist]"
      ]
    },
    {
      "cell_type": "code",
      "execution_count": 18,
      "metadata": {
        "id": "cdpxfS3dhofw",
        "colab": {
          "base_uri": "https://localhost:8080/",
          "height": 430
        },
        "outputId": "ad36f2d7-164d-486e-b9e6-6deb703daf6b"
      },
      "outputs": [
        {
          "output_type": "display_data",
          "data": {
            "text/plain": [
              "<Figure size 640x480 with 2 Axes>"
            ],
            "image/png": "[encoded data removed]"
          },
          "metadata": {}
        }
      ],
      "source": [
        "\n",
        "matrix_confusion(val_labels, y_predict_test2)"
      ]
    },
    {
      "cell_type": "code",
      "execution_count": null,
      "metadata": {
        "id": "gEu9sfuchrqV"
      },
      "outputs": [],
      "source": [
        "\n"
      ]
    },
    {
      "cell_type": "code",
      "execution_count": null,
      "metadata": {
        "id": "wTbhsybzfSn3"
      },
      "outputs": [],
      "source": [
        "plt.style.use('ggplot')\n",
        "\n",
        "def plot_history(history):\n",
        "    acc = history.history['accuracy']\n",
        "    val_acc = history.history['val_accuracy']\n",
        "    loss = history.history['loss']\n",
        "    val_loss = history.history['val_loss']\n",
        "    x = range(1, len(acc) + 1)\n",
        "\n",
        "    plt.figure(figsize=(12, 5))\n",
        "    plt.subplot(1, 2, 1)\n",
        "    plt.plot(x, acc, 'b', label='Training acc')\n",
        "    plt.plot(x, val_acc, 'r', label='Validation acc')\n",
        "    plt.title('Training and validation accuracy')\n",
        "    plt.legend()\n",
        "    plt.subplot(1, 2, 2)\n",
        "    plt.plot(x, loss, 'b', label='Training loss')\n",
        "    plt.plot(x, val_loss, 'r', label='Validation loss')\n",
        "    plt.title('Training and validation loss')\n",
        "    plt.legend()"
      ]
    },
    {
      "cell_type": "code",
      "source": [
        "plot_history(history)"
      ],
      "metadata": {
        "id": "M15f4v7e6kUV"
      },
      "execution_count": null,
      "outputs": []
    },
    {
      "cell_type": "code",
      "source": [
        "target_names = ['Neutre', 'Insultant']\n",
        "print(classification_report(val_labels, y_predict_test2, target_names=target_names))"
      ],
      "metadata": {
        "colab": {
          "base_uri": "https://localhost:8080/"
        },
        "id": "IhD-B2ne6mjY",
        "outputId": "03caf535-7069-4837-ebac-5e94d9372fcf"
      },
      "execution_count": 19,
      "outputs": [
        {
          "output_type": "stream",
          "name": "stdout",
          "text": [
            "              precision    recall  f1-score   support\n",
            "\n",
            "      Neutre       0.92      0.72      0.81       868\n",
            "   Insultant       0.52      0.83      0.64       317\n",
            "\n",
            "    accuracy                           0.75      1185\n",
            "   macro avg       0.72      0.78      0.73      1185\n",
            "weighted avg       0.82      0.75      0.77      1185\n",
            "\n"
          ]
        }
      ]
    }
  ],
  "metadata": {
    "colab": {
      "provenance": []
    },
    "kernelspec": {
      "display_name": "Python 3",
      "name": "python3"
    },
    "language_info": {
      "name": "python"
    }
  },
  "nbformat": 4,
  "nbformat_minor": 0
}