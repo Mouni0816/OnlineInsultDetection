{
 "cells": [
  {
   "attachments": {},
   "cell_type": "markdown",
   "metadata": {},
   "source": [
    "# Neural Network with own Embedding"
   ]
  },
  {
   "attachments": {},
   "cell_type": "markdown",
   "metadata": {},
   "source": [
    "### Travail effectué\n",
    "* NN avec 4 couches\n",
    "* Sans fine tuning\n",
    "\n",
    "### Conclusion\n",
    "* Enorme Underfitting\n",
    "* Le modèle a du mal à apprendre : revoir le traitement des données, tester CNN, tester fine tuning"
   ]
  },
  {
   "cell_type": "code",
   "execution_count": 1,
   "metadata": {},
   "outputs": [],
   "source": [
    "import pandas as pd\n",
    "from matplotlib import pyplot as plt\n",
    "\n",
    "from tensorflow.keras.preprocessing.text import Tokenizer\n",
    "from tensorflow.keras.preprocessing.sequence import pad_sequences\n",
    "from tensorflow.keras.models import Sequential\n",
    "from tensorflow.keras import layers\n",
    "\n",
    "from sklearn.metrics import classification_report\n",
    "from Fonctions_utils import f1_m, matrix_confusion"
   ]
  },
  {
   "cell_type": "code",
   "execution_count": 2,
   "metadata": {},
   "outputs": [],
   "source": [
    "df_train = pd.read_csv(\"../../data_models/df_train_undersampling.csv\")\n",
    "df_val = pd.read_csv(\"../../data_models/df_val.csv\")\n",
    "df_test = pd.read_csv(\"../../data_models/df_test.csv\")"
   ]
  },
  {
   "cell_type": "code",
   "execution_count": 3,
   "metadata": {},
   "outputs": [],
   "source": [
    "sentences_train = df_train[\"text_clean\"].values.astype(str)\n",
    "sentences_val = df_val[\"text_clean\"].values.astype(str)\n",
    "sentences_test = df_test[\"text_clean\"].values.astype(str)\n",
    "\n",
    "y_train = df_train[\"Insult\"].values\n",
    "y_val = df_val[\"Insult\"].values\n",
    "y_test = df_test[\"Insult\"].values"
   ]
  },
  {
   "cell_type": "code",
   "execution_count": 4,
   "metadata": {},
   "outputs": [],
   "source": [
    "tokenizer = Tokenizer(num_words=5000)\n",
    "tokenizer.fit_on_texts(sentences_train)\n",
    "\n",
    "X_train = tokenizer.texts_to_sequences(sentences_train)\n",
    "X_val = tokenizer.texts_to_sequences(sentences_val)\n",
    "X_test = tokenizer.texts_to_sequences(sentences_test)\n",
    "\n",
    "vocab_size = len(tokenizer.word_index) + 1"
   ]
  },
  {
   "attachments": {},
   "cell_type": "markdown",
   "metadata": {},
   "source": [
    "The indexing is ordered after the most common words in the text, which you can see by the word the having the index 1. It is important to note that the index 0 is reserved and is not assigned to any word. This zero index is used for padding, which I’ll introduce in a moment"
   ]
  },
  {
   "attachments": {},
   "cell_type": "markdown",
   "metadata": {},
   "source": [
    "One problem that we have is that each text sequence has in most cases different length of words. To counter this, you can use pad_sequence() which simply pads the sequence of words with zeros. By default, it prepends zeros but we want to append them. Typically it does not matter whether you prepend or append zeros."
   ]
  },
  {
   "cell_type": "code",
   "execution_count": 5,
   "metadata": {},
   "outputs": [],
   "source": [
    "maxlen = 200\n",
    "\n",
    "X_train = pad_sequences(X_train, padding='post', maxlen=maxlen)\n",
    "X_val = pad_sequences(X_val, padding='post', maxlen=maxlen)\n",
    "X_test = pad_sequences(X_test, padding='post', maxlen=maxlen)"
   ]
  },
  {
   "cell_type": "code",
   "execution_count": 6,
   "metadata": {},
   "outputs": [
    {
     "name": "stdout",
     "output_type": "stream",
     "text": [
      "Model: \"sequential\"\n",
      "_________________________________________________________________\n",
      "Layer (type)                 Output Shape              Param #   \n",
      "=================================================================\n",
      "embedding (Embedding)        (None, 200, 50)           316300    \n",
      "_________________________________________________________________\n",
      "global_max_pooling1d (Global (None, 50)                0         \n",
      "_________________________________________________________________\n",
      "flatten (Flatten)            (None, 50)                0         \n",
      "_________________________________________________________________\n",
      "dense (Dense)                (None, 10)                510       \n",
      "_________________________________________________________________\n",
      "dense_1 (Dense)              (None, 1)                 11        \n",
      "=================================================================\n",
      "Total params: 316,821\n",
      "Trainable params: 316,821\n",
      "Non-trainable params: 0\n",
      "_________________________________________________________________\n"
     ]
    },
    {
     "name": "stderr",
     "output_type": "stream",
     "text": [
      "2023-06-06 17:30:50.116386: I tensorflow/core/platform/cpu_feature_guard.cc:145] This TensorFlow binary is optimized with Intel(R) MKL-DNN to use the following CPU instructions in performance critical operations:  SSE4.1 SSE4.2\n",
      "To enable them in non-MKL-DNN operations, rebuild TensorFlow with the appropriate compiler flags.\n",
      "2023-06-06 17:30:50.116800: I tensorflow/core/common_runtime/process_util.cc:115] Creating new thread pool with default inter op setting: 8. Tune using inter_op_parallelism_threads for best performance.\n"
     ]
    }
   ],
   "source": [
    "embedding_dim = 50\n",
    "\n",
    "model = Sequential()\n",
    "model.add(layers.Embedding(input_dim=vocab_size, \n",
    "                           output_dim=embedding_dim, \n",
    "                           input_length=maxlen))\n",
    "model.add(layers.GlobalMaxPool1D())\n",
    "model.add(layers.Flatten())\n",
    "model.add(layers.Dense(10, activation='relu'))\n",
    "model.add(layers.Dense(1, activation='sigmoid'))\n",
    "model.compile(optimizer='adam',\n",
    "              loss='binary_crossentropy',\n",
    "              metrics=[f1_m,'accuracy'])\n",
    "model.summary()"
   ]
  },
  {
   "cell_type": "code",
   "execution_count": 7,
   "metadata": {},
   "outputs": [
    {
     "name": "stdout",
     "output_type": "stream",
     "text": [
      "Train on 1464 samples, validate on 1185 samples\n",
      "Epoch 1/30\n",
      "1464/1464 [==============================] - 2s 2ms/sample - loss: 0.6834 - f1_m: 0.3508 - accuracy: 0.6161 - val_loss: 0.6617 - val_f1_m: 0.5499 - val_accuracy: 0.7451\n",
      "Epoch 2/30\n",
      "1464/1464 [==============================] - 1s 886us/sample - loss: 0.6186 - f1_m: 0.7509 - accuracy: 0.7787 - val_loss: 0.5999 - val_f1_m: 0.5653 - val_accuracy: 0.6979\n",
      "Epoch 3/30\n",
      "1464/1464 [==============================] - 1s 878us/sample - loss: 0.4774 - f1_m: 0.8230 - accuracy: 0.8299 - val_loss: 0.4535 - val_f1_m: 0.6024 - val_accuracy: 0.8034\n",
      "Epoch 4/30\n",
      "1464/1464 [==============================] - 1s 957us/sample - loss: 0.3332 - f1_m: 0.8760 - accuracy: 0.8900 - val_loss: 0.4472 - val_f1_m: 0.6308 - val_accuracy: 0.7865\n",
      "Epoch 5/30\n",
      "1464/1464 [==============================] - 1s 873us/sample - loss: 0.2277 - f1_m: 0.9247 - accuracy: 0.9331 - val_loss: 0.4122 - val_f1_m: 0.6308 - val_accuracy: 0.8093\n",
      "Epoch 6/30\n",
      "1464/1464 [==============================] - 1s 893us/sample - loss: 0.1497 - f1_m: 0.9573 - accuracy: 0.9638 - val_loss: 0.4281 - val_f1_m: 0.6330 - val_accuracy: 0.8034\n",
      "Epoch 7/30\n",
      "1464/1464 [==============================] - 1s 903us/sample - loss: 0.0962 - f1_m: 0.9801 - accuracy: 0.9809 - val_loss: 0.4268 - val_f1_m: 0.6361 - val_accuracy: 0.8084\n",
      "Epoch 8/30\n",
      "1464/1464 [==============================] - 1s 918us/sample - loss: 0.0605 - f1_m: 0.9935 - accuracy: 0.9939 - val_loss: 0.4537 - val_f1_m: 0.6329 - val_accuracy: 0.7992\n",
      "Epoch 9/30\n",
      "1464/1464 [==============================] - 1s 895us/sample - loss: 0.0410 - f1_m: 0.9892 - accuracy: 0.9966 - val_loss: 0.4569 - val_f1_m: 0.6433 - val_accuracy: 0.8127\n",
      "Epoch 10/30\n",
      "1464/1464 [==============================] - 1s 977us/sample - loss: 0.0270 - f1_m: 0.9990 - accuracy: 0.9986 - val_loss: 0.4658 - val_f1_m: 0.6153 - val_accuracy: 0.8068\n",
      "Epoch 11/30\n",
      "1464/1464 [==============================] - 2s 1ms/sample - loss: 0.0197 - f1_m: 0.9921 - accuracy: 0.9986 - val_loss: 0.4923 - val_f1_m: 0.6281 - val_accuracy: 0.8034\n",
      "Epoch 12/30\n",
      "1464/1464 [==============================] - 2s 1ms/sample - loss: 0.0150 - f1_m: 0.9980 - accuracy: 0.9986 - val_loss: 0.4940 - val_f1_m: 0.6176 - val_accuracy: 0.8084\n",
      "Epoch 13/30\n",
      "1464/1464 [==============================] - 1s 900us/sample - loss: 0.0115 - f1_m: 0.9970 - accuracy: 0.9986 - val_loss: 0.5210 - val_f1_m: 0.6225 - val_accuracy: 0.7992\n",
      "Epoch 14/30\n",
      "1464/1464 [==============================] - 1s 955us/sample - loss: 0.0102 - f1_m: 0.9983 - accuracy: 0.9980 - val_loss: 0.5372 - val_f1_m: 0.6231 - val_accuracy: 0.7966\n",
      "Epoch 15/30\n",
      "1464/1464 [==============================] - 1s 879us/sample - loss: 0.0089 - f1_m: 0.9986 - accuracy: 0.9986 - val_loss: 0.5427 - val_f1_m: 0.6266 - val_accuracy: 0.7992\n",
      "Epoch 16/30\n",
      "1464/1464 [==============================] - 1s 894us/sample - loss: 0.0073 - f1_m: 0.9978 - accuracy: 0.9980 - val_loss: 0.5544 - val_f1_m: 0.6304 - val_accuracy: 0.7992\n",
      "Epoch 17/30\n",
      "1464/1464 [==============================] - 1s 891us/sample - loss: 0.0068 - f1_m: 0.9905 - accuracy: 0.9973 - val_loss: 0.5676 - val_f1_m: 0.6259 - val_accuracy: 0.7966\n",
      "Epoch 18/30\n",
      "1464/1464 [==============================] - 1s 917us/sample - loss: 0.0058 - f1_m: 0.9985 - accuracy: 0.9986 - val_loss: 0.5666 - val_f1_m: 0.6234 - val_accuracy: 0.7992\n",
      "Epoch 19/30\n",
      "1464/1464 [==============================] - 1s 865us/sample - loss: 0.0050 - f1_m: 0.9989 - accuracy: 0.9986 - val_loss: 0.5937 - val_f1_m: 0.6252 - val_accuracy: 0.7941\n",
      "Epoch 20/30\n",
      "1464/1464 [==============================] - 1s 891us/sample - loss: 0.0050 - f1_m: 0.9991 - accuracy: 0.9986 - val_loss: 0.5860 - val_f1_m: 0.6238 - val_accuracy: 0.8000\n",
      "Epoch 21/30\n",
      "1464/1464 [==============================] - 1s 870us/sample - loss: 0.0052 - f1_m: 0.9970 - accuracy: 0.9973 - val_loss: 0.6102 - val_f1_m: 0.6207 - val_accuracy: 0.7916\n",
      "Epoch 22/30\n",
      "1464/1464 [==============================] - 1s 875us/sample - loss: 0.0042 - f1_m: 0.9979 - accuracy: 0.9986 - val_loss: 0.6001 - val_f1_m: 0.6164 - val_accuracy: 0.7949\n",
      "Epoch 23/30\n",
      "1464/1464 [==============================] - 1s 901us/sample - loss: 0.0047 - f1_m: 0.9976 - accuracy: 0.9973 - val_loss: 0.6158 - val_f1_m: 0.6245 - val_accuracy: 0.7958\n",
      "Epoch 24/30\n",
      "1464/1464 [==============================] - 1s 948us/sample - loss: 0.0050 - f1_m: 0.9983 - accuracy: 0.9980 - val_loss: 0.6182 - val_f1_m: 0.6228 - val_accuracy: 0.7949\n",
      "Epoch 25/30\n",
      "1464/1464 [==============================] - 1s 922us/sample - loss: 0.0040 - f1_m: 0.9915 - accuracy: 0.9980 - val_loss: 0.6426 - val_f1_m: 0.6241 - val_accuracy: 0.7907\n",
      "Epoch 26/30\n",
      "1464/1464 [==============================] - 1s 919us/sample - loss: 0.0041 - f1_m: 0.9986 - accuracy: 0.9986 - val_loss: 0.6392 - val_f1_m: 0.6177 - val_accuracy: 0.7907\n",
      "Epoch 27/30\n",
      "1464/1464 [==============================] - 1s 893us/sample - loss: 0.0037 - f1_m: 0.9900 - accuracy: 0.9973 - val_loss: 0.6483 - val_f1_m: 0.6195 - val_accuracy: 0.7907\n",
      "Epoch 28/30\n",
      "1464/1464 [==============================] - 1s 907us/sample - loss: 0.0035 - f1_m: 0.9918 - accuracy: 0.9986 - val_loss: 0.6434 - val_f1_m: 0.6198 - val_accuracy: 0.7958\n",
      "Epoch 29/30\n",
      "1464/1464 [==============================] - 1s 876us/sample - loss: 0.0043 - f1_m: 0.9944 - accuracy: 0.9973 - val_loss: 0.6608 - val_f1_m: 0.6232 - val_accuracy: 0.7924\n",
      "Epoch 30/30\n",
      "1464/1464 [==============================] - 1s 899us/sample - loss: 0.0034 - f1_m: 0.9990 - accuracy: 0.9986 - val_loss: 0.6626 - val_f1_m: 0.6261 - val_accuracy: 0.7958\n"
     ]
    }
   ],
   "source": [
    "history = model.fit(X_train, y_train,\n",
    "                    epochs=30,\n",
    "                    verbose=1,\n",
    "                    validation_data=(X_val, y_val),\n",
    "                    batch_size=10)"
   ]
  },
  {
   "attachments": {},
   "cell_type": "markdown",
   "metadata": {},
   "source": [
    "## Performance"
   ]
  },
  {
   "cell_type": "code",
   "execution_count": 8,
   "metadata": {},
   "outputs": [],
   "source": [
    "plt.style.use('ggplot')\n",
    "\n",
    "def plot_history(history):\n",
    "    acc = history.history['accuracy']\n",
    "    val_acc = history.history['val_accuracy']\n",
    "    loss = history.history['loss']\n",
    "    val_loss = history.history['val_loss']\n",
    "    x = range(1, len(acc) + 1)\n",
    "\n",
    "    plt.figure(figsize=(12, 5))\n",
    "    plt.subplot(1, 2, 1)\n",
    "    plt.plot(x, acc, 'b', label='Training acc')\n",
    "    plt.plot(x, val_acc, 'r', label='Validation acc')\n",
    "    plt.title('Training and validation accuracy')\n",
    "    plt.legend()\n",
    "    plt.subplot(1, 2, 2)\n",
    "    plt.plot(x, loss, 'b', label='Training loss')\n",
    "    plt.plot(x, val_loss, 'r', label='Validation loss')\n",
    "    plt.title('Training and validation loss')\n",
    "    plt.legend()"
   ]
  },
  {
   "cell_type": "code",
   "execution_count": 9,
   "metadata": {},
   "outputs": [
    {
     "data": {
      "image/png": "[encoded data removed]",
      "text/plain": [
       "<Figure size 1200x500 with 2 Axes>"
      ]
     },
     "metadata": {},
     "output_type": "display_data"
    }
   ],
   "source": [
    "plot_history(history)"
   ]
  },
  {
   "cell_type": "code",
   "execution_count": 10,
   "metadata": {},
   "outputs": [],
   "source": [
    "y_predict_test = model.predict(X_test)\n",
    "y_predict_test2 = [round(item) for sublist in y_predict_test.tolist() for item in sublist]"
   ]
  },
  {
   "cell_type": "code",
   "execution_count": 11,
   "metadata": {},
   "outputs": [
    {
     "data": {
      "image/png": "[encoded data removed]",
      "text/plain": [
       "<Figure size 640x480 with 2 Axes>"
      ]
     },
     "metadata": {},
     "output_type": "display_data"
    }
   ],
   "source": [
    "matrix_confusion(y_test, y_predict_test2)"
   ]
  },
  {
   "cell_type": "code",
   "execution_count": 12,
   "metadata": {},
   "outputs": [
    {
     "name": "stdout",
     "output_type": "stream",
     "text": [
      "              precision    recall  f1-score   support\n",
      "\n",
      "      Neutre       0.89      0.81      0.85      1954\n",
      "   Insultant       0.58      0.71      0.64       693\n",
      "\n",
      "    accuracy                           0.79      2647\n",
      "   macro avg       0.73      0.76      0.74      2647\n",
      "weighted avg       0.81      0.79      0.79      2647\n",
      "\n"
     ]
    }
   ],
   "source": [
    "target_names = ['Neutre', 'Insultant']\n",
    "print(classification_report(y_test, y_predict_test2, target_names=target_names))"
   ]
  },
  {
   "cell_type": "code",
   "execution_count": 13,
   "metadata": {},
   "outputs": [],
   "source": [
    "df_test2 = df_test.copy()"
   ]
  },
  {
   "cell_type": "code",
   "execution_count": 14,
   "metadata": {},
   "outputs": [],
   "source": [
    "df_test2[\"predi\"] = y_predict_test2"
   ]
  },
  {
   "cell_type": "code",
   "execution_count": 15,
   "metadata": {},
   "outputs": [],
   "source": [
    "diff = df_test2[df_test2[\"Insult\"] != df_test2[\"predi\"]]"
   ]
  },
  {
   "cell_type": "code",
   "execution_count": 16,
   "metadata": {},
   "outputs": [
    {
     "data": {
      "text/html": [
       "<div>\n",
       "<style scoped>\n",
       "    .dataframe tbody tr th:only-of-type {\n",
       "        vertical-align: middle;\n",
       "    }\n",
       "\n",
       "    .dataframe tbody tr th {\n",
       "        vertical-align: top;\n",
       "    }\n",
       "\n",
       "    .dataframe thead th {\n",
       "        text-align: right;\n",
       "    }\n",
       "</style>\n",
       "<table border=\"1\" class=\"dataframe\">\n",
       "  <thead>\n",
       "    <tr style=\"text-align: right;\">\n",
       "      <th></th>\n",
       "      <th>Insult</th>\n",
       "      <th>text_clean</th>\n",
       "      <th>predi</th>\n",
       "    </tr>\n",
       "  </thead>\n",
       "  <tbody>\n",
       "    <tr>\n",
       "      <th>7</th>\n",
       "      <td>0</td>\n",
       "      <td>how about we accept fact and patiently wait fo...</td>\n",
       "      <td>1</td>\n",
       "    </tr>\n",
       "    <tr>\n",
       "      <th>23</th>\n",
       "      <td>1</td>\n",
       "      <td>go loving</td>\n",
       "      <td>0</td>\n",
       "    </tr>\n",
       "    <tr>\n",
       "      <th>26</th>\n",
       "      <td>0</td>\n",
       "      <td>koolnightie just like your bedmate proud marxi...</td>\n",
       "      <td>1</td>\n",
       "    </tr>\n",
       "    <tr>\n",
       "      <th>32</th>\n",
       "      <td>0</td>\n",
       "      <td>zimmerman and his wife look like brother and s...</td>\n",
       "      <td>1</td>\n",
       "    </tr>\n",
       "    <tr>\n",
       "      <th>34</th>\n",
       "      <td>0</td>\n",
       "      <td>nah that be your daughter</td>\n",
       "      <td>1</td>\n",
       "    </tr>\n",
       "    <tr>\n",
       "      <th>38</th>\n",
       "      <td>0</td>\n",
       "      <td>you and your ilk are the reason why paul will ...</td>\n",
       "      <td>1</td>\n",
       "    </tr>\n",
       "    <tr>\n",
       "      <th>39</th>\n",
       "      <td>0</td>\n",
       "      <td>lol lame old woman mother of yellow chicken hawk</td>\n",
       "      <td>1</td>\n",
       "    </tr>\n",
       "    <tr>\n",
       "      <th>45</th>\n",
       "      <td>0</td>\n",
       "      <td>and you can be silly too</td>\n",
       "      <td>1</td>\n",
       "    </tr>\n",
       "    <tr>\n",
       "      <th>51</th>\n",
       "      <td>0</td>\n",
       "      <td>poor ian</td>\n",
       "      <td>1</td>\n",
       "    </tr>\n",
       "    <tr>\n",
       "      <th>57</th>\n",
       "      <td>0</td>\n",
       "      <td>read lincoln hawk post please</td>\n",
       "      <td>1</td>\n",
       "    </tr>\n",
       "    <tr>\n",
       "      <th>61</th>\n",
       "      <td>0</td>\n",
       "      <td>killing them should be a last resort i gon na ...</td>\n",
       "      <td>1</td>\n",
       "    </tr>\n",
       "    <tr>\n",
       "      <th>63</th>\n",
       "      <td>1</td>\n",
       "      <td>hug a tree faaaaaagggggggggggggg folk like you...</td>\n",
       "      <td>0</td>\n",
       "    </tr>\n",
       "    <tr>\n",
       "      <th>82</th>\n",
       "      <td>1</td>\n",
       "      <td>take your pill the voice are obviously taking ...</td>\n",
       "      <td>0</td>\n",
       "    </tr>\n",
       "    <tr>\n",
       "      <th>86</th>\n",
       "      <td>0</td>\n",
       "      <td>start with impeaching this dumb as usurper</td>\n",
       "      <td>1</td>\n",
       "    </tr>\n",
       "    <tr>\n",
       "      <th>104</th>\n",
       "      <td>0</td>\n",
       "      <td>bei jedem holen banken vor einer kreditvergabe...</td>\n",
       "      <td>1</td>\n",
       "    </tr>\n",
       "    <tr>\n",
       "      <th>110</th>\n",
       "      <td>0</td>\n",
       "      <td>wrong place wrong time and a black man saved h...</td>\n",
       "      <td>1</td>\n",
       "    </tr>\n",
       "    <tr>\n",
       "      <th>113</th>\n",
       "      <td>0</td>\n",
       "      <td>you get a like based only on the last part of ...</td>\n",
       "      <td>1</td>\n",
       "    </tr>\n",
       "    <tr>\n",
       "      <th>114</th>\n",
       "      <td>0</td>\n",
       "      <td>NaN</td>\n",
       "      <td>1</td>\n",
       "    </tr>\n",
       "    <tr>\n",
       "      <th>118</th>\n",
       "      <td>1</td>\n",
       "      <td>you are all a bunch of wanker for not going i ...</td>\n",
       "      <td>0</td>\n",
       "    </tr>\n",
       "    <tr>\n",
       "      <th>119</th>\n",
       "      <td>0</td>\n",
       "      <td>you are far too generous in your comment about...</td>\n",
       "      <td>1</td>\n",
       "    </tr>\n",
       "  </tbody>\n",
       "</table>\n",
       "</div>"
      ],
      "text/plain": [
       "     Insult                                         text_clean  predi\n",
       "7         0  how about we accept fact and patiently wait fo...      1\n",
       "23        1                                          go loving      0\n",
       "26        0  koolnightie just like your bedmate proud marxi...      1\n",
       "32        0  zimmerman and his wife look like brother and s...      1\n",
       "34        0                          nah that be your daughter      1\n",
       "38        0  you and your ilk are the reason why paul will ...      1\n",
       "39        0   lol lame old woman mother of yellow chicken hawk      1\n",
       "45        0                           and you can be silly too      1\n",
       "51        0                                           poor ian      1\n",
       "57        0                      read lincoln hawk post please      1\n",
       "61        0  killing them should be a last resort i gon na ...      1\n",
       "63        1  hug a tree faaaaaagggggggggggggg folk like you...      0\n",
       "82        1  take your pill the voice are obviously taking ...      0\n",
       "86        0         start with impeaching this dumb as usurper      1\n",
       "104       0  bei jedem holen banken vor einer kreditvergabe...      1\n",
       "110       0  wrong place wrong time and a black man saved h...      1\n",
       "113       0  you get a like based only on the last part of ...      1\n",
       "114       0                                                NaN      1\n",
       "118       1  you are all a bunch of wanker for not going i ...      0\n",
       "119       0  you are far too generous in your comment about...      1"
      ]
     },
     "execution_count": 16,
     "metadata": {},
     "output_type": "execute_result"
    }
   ],
   "source": [
    "diff.head(20)"
   ]
  },
  {
   "cell_type": "code",
   "execution_count": null,
   "metadata": {},
   "outputs": [],
   "source": []
  }
 ],
 "metadata": {
  "kernelspec": {
   "display_name": "tf2",
   "language": "python",
   "name": "python3"
  },
  "language_info": {
   "codemirror_mode": {
    "name": "ipython",
    "version": 3
   },
   "file_extension": ".py",
   "mimetype": "text/x-python",
   "name": "python",
   "nbconvert_exporter": "python",
   "pygments_lexer": "ipython3",
   "version": "3.7.16"
  },
  "orig_nbformat": 4
 },
 "nbformat": 4,
 "nbformat_minor": 2
}
