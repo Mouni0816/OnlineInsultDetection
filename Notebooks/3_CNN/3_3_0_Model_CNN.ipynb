{
 "cells": [
  {
   "attachments": {},
   "cell_type": "markdown",
   "metadata": {},
   "source": [
    "# Convolutional Neural Network with own Embedding and fined tuning"
   ]
  },
  {
   "attachments": {},
   "cell_type": "markdown",
   "metadata": {},
   "source": [
    "### Travail effectué\n",
    "* xx\n",
    "\n",
    "### Conclusion\n",
    "* xxx\n",
    "* xxx"
   ]
  },
  {
   "cell_type": "code",
   "execution_count": 1,
   "metadata": {},
   "outputs": [],
   "source": [
    "import pandas as pd\n",
    "from matplotlib import pyplot as plt\n",
    "\n",
    "from tensorflow.keras import preprocessing\n",
    "from tensorflow.keras.preprocessing.text import Tokenizer\n",
    "from tensorflow.keras.preprocessing.sequence import pad_sequences\n",
    "from tensorflow.keras.models import Sequential\n",
    "from tensorflow.keras import layers"
   ]
  },
  {
   "cell_type": "code",
   "execution_count": 2,
   "metadata": {},
   "outputs": [],
   "source": [
    "df_train = pd.read_csv(\"../../data_models/df_train_undersampling.csv\")\n",
    "df_val = pd.read_csv(\"../../data_models/df_val.csv\")\n",
    "df_test = pd.read_csv(\"../../data_models/df_test.csv\")"
   ]
  },
  {
   "cell_type": "code",
   "execution_count": 3,
   "metadata": {},
   "outputs": [],
   "source": [
    "sentences_train = df_train[\"text_clean\"].values.astype(str)\n",
    "sentences_val = df_val[\"text_clean\"].values.astype(str)\n",
    "sentences_test = df_test[\"text_clean\"].values.astype(str)\n",
    "\n",
    "y_train = df_train[\"Insult\"].values\n",
    "y_val = df_val[\"Insult\"].values\n",
    "y_test = df_test[\"Insult\"].values"
   ]
  },
  {
   "cell_type": "code",
   "execution_count": 4,
   "metadata": {},
   "outputs": [],
   "source": [
    "tokenizer = Tokenizer(num_words=5000)\n",
    "tokenizer.fit_on_texts(sentences_train)\n",
    "\n",
    "X_train = tokenizer.texts_to_sequences(sentences_train)\n",
    "X_val = tokenizer.texts_to_sequences(sentences_val)\n",
    "X_test = tokenizer.texts_to_sequences(sentences_test)\n",
    "\n",
    "vocab_size = len(tokenizer.word_index) + 1"
   ]
  },
  {
   "attachments": {},
   "cell_type": "markdown",
   "metadata": {},
   "source": [
    "The indexing is ordered after the most common words in the text, which you can see by the word the having the index 1. It is important to note that the index 0 is reserved and is not assigned to any word. This zero index is used for padding, which I’ll introduce in a moment"
   ]
  },
  {
   "attachments": {},
   "cell_type": "markdown",
   "metadata": {},
   "source": [
    "One problem that we have is that each text sequence has in most cases different length of words. To counter this, you can use pad_sequence() which simply pads the sequence of words with zeros. By default, it prepends zeros but we want to append them. Typically it does not matter whether you prepend or append zeros."
   ]
  },
  {
   "cell_type": "code",
   "execution_count": 5,
   "metadata": {},
   "outputs": [],
   "source": [
    "maxlen = 200\n",
    "\n",
    "X_train = pad_sequences(X_train, padding='post', maxlen=maxlen)\n",
    "X_val = pad_sequences(X_val, padding='post', maxlen=maxlen)\n",
    "X_test = pad_sequences(X_test, padding='post', maxlen=maxlen)"
   ]
  },
  {
   "cell_type": "code",
   "execution_count": 6,
   "metadata": {},
   "outputs": [],
   "source": [
    "def create_model(num_filters, kernel_size, vocab_size, embedding_dim, maxlen):\n",
    "    model = Sequential()\n",
    "    model.add(layers.Embedding(input_dim=vocab_size, \n",
    "                           output_dim=embedding_dim, \n",
    "                           input_length=maxlen))\n",
    "    model.add(layers.Conv1D(num_filters, kernel_size, activation='relu'))\n",
    "    model.add(layers.GlobalMaxPooling1D())\n",
    "    model.add(layers.Dense(10, activation='relu'))\n",
    "    model.add(layers.Dense(1, activation='sigmoid'))\n",
    "    model.compile(optimizer='adam',\n",
    "                  loss='binary_crossentropy',\n",
    "                  metrics=['accuracy'])\n",
    "    return model"
   ]
  },
  {
   "cell_type": "code",
   "execution_count": 7,
   "metadata": {},
   "outputs": [],
   "source": [
    "epochs = 20"
   ]
  },
  {
   "cell_type": "code",
   "execution_count": 8,
   "metadata": {},
   "outputs": [],
   "source": [
    "param_grid = dict(num_filters=[32, 64, 128],\n",
    "                  kernel_size=[3, 5, 7, 9],\n",
    "                  vocab_size=[vocab_size], \n",
    "                  embedding_dim=[50],\n",
    "                  maxlen=[maxlen])"
   ]
  },
  {
   "cell_type": "code",
   "execution_count": 9,
   "metadata": {},
   "outputs": [],
   "source": [
    "from tensorflow.keras.wrappers.scikit_learn import KerasClassifier\n",
    "from sklearn.model_selection import RandomizedSearchCV"
   ]
  },
  {
   "cell_type": "code",
   "execution_count": 10,
   "metadata": {},
   "outputs": [
    {
     "name": "stdout",
     "output_type": "stream",
     "text": [
      "Fitting 4 folds for each of 4 candidates, totalling 16 fits\n"
     ]
    },
    {
     "name": "stderr",
     "output_type": "stream",
     "text": [
      "2023-06-06 10:45:11.600055: I tensorflow/core/platform/cpu_feature_guard.cc:145] This TensorFlow binary is optimized with Intel(R) MKL-DNN to use the following CPU instructions in performance critical operations:  SSE4.1 SSE4.2\n",
      "To enable them in non-MKL-DNN operations, rebuild TensorFlow with the appropriate compiler flags.\n",
      "2023-06-06 10:45:11.601765: I tensorflow/core/common_runtime/process_util.cc:115] Creating new thread pool with default inter op setting: 8. Tune using inter_op_parallelism_threads for best performance.\n"
     ]
    },
    {
     "name": "stdout",
     "output_type": "stream",
     "text": [
      "[CV] END embedding_dim=50, kernel_size=7, maxlen=200, num_filters=32, vocab_size=6326; total time=  36.2s\n",
      "[CV] END embedding_dim=50, kernel_size=7, maxlen=200, num_filters=32, vocab_size=6326; total time=  36.3s\n",
      "[CV] END embedding_dim=50, kernel_size=7, maxlen=200, num_filters=32, vocab_size=6326; total time=  41.0s\n",
      "[CV] END embedding_dim=50, kernel_size=7, maxlen=200, num_filters=32, vocab_size=6326; total time=  39.7s\n",
      "[CV] END embedding_dim=50, kernel_size=7, maxlen=200, num_filters=128, vocab_size=6326; total time=  55.9s\n",
      "[CV] END embedding_dim=50, kernel_size=7, maxlen=200, num_filters=128, vocab_size=6326; total time=  58.0s\n",
      "[CV] END embedding_dim=50, kernel_size=7, maxlen=200, num_filters=128, vocab_size=6326; total time= 1.2min\n",
      "[CV] END embedding_dim=50, kernel_size=7, maxlen=200, num_filters=128, vocab_size=6326; total time= 1.5min\n",
      "[CV] END embedding_dim=50, kernel_size=5, maxlen=200, num_filters=32, vocab_size=6326; total time= 1.2min\n",
      "[CV] END embedding_dim=50, kernel_size=5, maxlen=200, num_filters=32, vocab_size=6326; total time= 1.0min\n",
      "[CV] END embedding_dim=50, kernel_size=5, maxlen=200, num_filters=32, vocab_size=6326; total time=  38.3s\n",
      "[CV] END embedding_dim=50, kernel_size=5, maxlen=200, num_filters=32, vocab_size=6326; total time=  39.9s\n",
      "[CV] END embedding_dim=50, kernel_size=9, maxlen=200, num_filters=64, vocab_size=6326; total time=  51.4s\n",
      "[CV] END embedding_dim=50, kernel_size=9, maxlen=200, num_filters=64, vocab_size=6326; total time=  49.8s\n",
      "[CV] END embedding_dim=50, kernel_size=9, maxlen=200, num_filters=64, vocab_size=6326; total time=  49.9s\n",
      "[CV] END embedding_dim=50, kernel_size=9, maxlen=200, num_filters=64, vocab_size=6326; total time=  50.1s\n"
     ]
    }
   ],
   "source": [
    "model = KerasClassifier(build_fn=create_model, epochs=epochs, batch_size=10, verbose=False)\n",
    "grid = RandomizedSearchCV(estimator=model, param_distributions=param_grid, cv=4, verbose=2, n_iter=4)\n",
    "grid_result = grid.fit(X_train, y_train)\n",
    "\n",
    "# Evaluate testing set\n",
    "val_accuracy = grid.score(X_val, y_val)\n",
    "test_accuracy = grid.score(X_test, y_test)"
   ]
  },
  {
   "cell_type": "code",
   "execution_count": 11,
   "metadata": {},
   "outputs": [
    {
     "name": "stdout",
     "output_type": "stream",
     "text": [
      "Best score :  0.6810109168291092\n",
      "Best params {'vocab_size': 6326, 'num_filters': 32, 'maxlen': 200, 'kernel_size': 5, 'embedding_dim': 50}\n",
      "Validation Accuracy :  0.8109705\n",
      "Test Accuracy :  0.79977334\n"
     ]
    }
   ],
   "source": [
    "print(\"Best score : \",grid_result.best_score_)\n",
    "print(\"Best params\", grid_result.best_params_)\n",
    "print(\"Validation Accuracy : \",val_accuracy)\n",
    "print(\"Test Accuracy : \",test_accuracy)"
   ]
  },
  {
   "cell_type": "markdown",
   "metadata": {},
   "source": [
    "\n",
    "Best score :  0.6810109168291092\n",
    "Best params {'vocab_size': 6326, 'num_filters': 32, 'maxlen': 200, 'kernel_size': 5, 'embedding_dim': 50}\n",
    "Validation Accuracy :  0.8109705\n",
    "Test Accuracy :  0.79977334"
   ]
  },
  {
   "cell_type": "markdown",
   "metadata": {},
   "source": []
  }
 ],
 "metadata": {
  "kernelspec": {
   "display_name": "tf2",
   "language": "python",
   "name": "python3"
  },
  "language_info": {
   "codemirror_mode": {
    "name": "ipython",
    "version": 3
   },
   "file_extension": ".py",
   "mimetype": "text/x-python",
   "name": "python",
   "nbconvert_exporter": "python",
   "pygments_lexer": "ipython3",
   "version": "3.7.16"
  },
  "orig_nbformat": 4
 },
 "nbformat": 4,
 "nbformat_minor": 2
}
