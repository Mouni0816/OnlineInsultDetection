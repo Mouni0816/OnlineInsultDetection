{
 "cells": [
  {
   "cell_type": "code",
   "execution_count": 1,
   "metadata": {},
   "outputs": [],
   "source": [
    "import re\n",
    "import pandas as pd\n",
    "from statistics import mean\n",
    "import numpy as np\n",
    "import seaborn as sns\n",
    "from matplotlib import pyplot as plt\n",
    "from matplotlib.ticker import PercentFormatter\n",
    "\n",
    "from nltk.tokenize import word_tokenize\n",
    "import nltk\n",
    "from nltk.corpus import stopwords\n",
    "#nltk.download('stopwords')\n",
    "stopwords = stopwords.words('english')\n",
    "from nltk.stem import WordNetLemmatizer\n",
    "\n",
    "from sklearn.model_selection import train_test_split"
   ]
  },
  {
   "cell_type": "code",
   "execution_count": 2,
   "metadata": {},
   "outputs": [],
   "source": [
    "train = pd.read_csv(\"../../data_Kaggle/train.csv\")"
   ]
  },
  {
   "cell_type": "code",
   "execution_count": 3,
   "metadata": {},
   "outputs": [
    {
     "data": {
      "text/html": [
       "<div>\n",
       "<style scoped>\n",
       "    .dataframe tbody tr th:only-of-type {\n",
       "        vertical-align: middle;\n",
       "    }\n",
       "\n",
       "    .dataframe tbody tr th {\n",
       "        vertical-align: top;\n",
       "    }\n",
       "\n",
       "    .dataframe thead th {\n",
       "        text-align: right;\n",
       "    }\n",
       "</style>\n",
       "<table border=\"1\" class=\"dataframe\">\n",
       "  <thead>\n",
       "    <tr style=\"text-align: right;\">\n",
       "      <th></th>\n",
       "      <th>Insult</th>\n",
       "      <th>Date</th>\n",
       "      <th>Comment</th>\n",
       "    </tr>\n",
       "  </thead>\n",
       "  <tbody>\n",
       "    <tr>\n",
       "      <th>0</th>\n",
       "      <td>1</td>\n",
       "      <td>20120618192155Z</td>\n",
       "      <td>\"You fuck your dad.\"</td>\n",
       "    </tr>\n",
       "    <tr>\n",
       "      <th>1</th>\n",
       "      <td>0</td>\n",
       "      <td>20120528192215Z</td>\n",
       "      <td>\"i really don't understand your point.\\xa0 It ...</td>\n",
       "    </tr>\n",
       "    <tr>\n",
       "      <th>2</th>\n",
       "      <td>0</td>\n",
       "      <td>NaN</td>\n",
       "      <td>\"A\\\\xc2\\\\xa0majority of Canadians can and has ...</td>\n",
       "    </tr>\n",
       "    <tr>\n",
       "      <th>3</th>\n",
       "      <td>0</td>\n",
       "      <td>NaN</td>\n",
       "      <td>\"listen if you dont wanna get married to a man...</td>\n",
       "    </tr>\n",
       "    <tr>\n",
       "      <th>4</th>\n",
       "      <td>0</td>\n",
       "      <td>20120619094753Z</td>\n",
       "      <td>\"C\\xe1c b\\u1ea1n xu\\u1ed1ng \\u0111\\u01b0\\u1edd...</td>\n",
       "    </tr>\n",
       "  </tbody>\n",
       "</table>\n",
       "</div>"
      ],
      "text/plain": [
       "   Insult             Date                                            Comment\n",
       "0       1  20120618192155Z                               \"You fuck your dad.\"\n",
       "1       0  20120528192215Z  \"i really don't understand your point.\\xa0 It ...\n",
       "2       0              NaN  \"A\\\\xc2\\\\xa0majority of Canadians can and has ...\n",
       "3       0              NaN  \"listen if you dont wanna get married to a man...\n",
       "4       0  20120619094753Z  \"C\\xe1c b\\u1ea1n xu\\u1ed1ng \\u0111\\u01b0\\u1edd..."
      ]
     },
     "execution_count": 3,
     "metadata": {},
     "output_type": "execute_result"
    }
   ],
   "source": [
    "train.head()"
   ]
  },
  {
   "cell_type": "code",
   "execution_count": 4,
   "metadata": {},
   "outputs": [
    {
     "data": {
      "text/plain": [
       "0                                    \"You fuck your dad.\"\n",
       "1       \"i really don't understand your point.\\xa0 It ...\n",
       "2       \"A\\\\xc2\\\\xa0majority of Canadians can and has ...\n",
       "3       \"listen if you dont wanna get married to a man...\n",
       "4       \"C\\xe1c b\\u1ea1n xu\\u1ed1ng \\u0111\\u01b0\\u1edd...\n",
       "                              ...                        \n",
       "3942    \"you are both morons and that is never happening\"\n",
       "3943    \"Many toolbars include spell check, like Yahoo...\n",
       "3944    \"@LambeauOrWrigley\\xa0\\xa0@K.Moss\\xa0\\nSioux F...\n",
       "3945    \"How about Felix? He is sure turning into one ...\n",
       "3946    \"You're all upset, defending this hipster band...\n",
       "Name: Comment, Length: 3947, dtype: object"
      ]
     },
     "execution_count": 4,
     "metadata": {},
     "output_type": "execute_result"
    }
   ],
   "source": [
    "train[\"Comment\"]"
   ]
  },
  {
   "attachments": {},
   "cell_type": "markdown",
   "metadata": {},
   "source": [
    "## Nettoyage des messages"
   ]
  },
  {
   "attachments": {},
   "cell_type": "markdown",
   "metadata": {},
   "source": [
    "#### Old function"
   ]
  },
  {
   "attachments": {},
   "cell_type": "markdown",
   "metadata": {},
   "source": [
    "def clean_df(df_base, column):\n",
    "    '''Cleaning column 'text' of a dataframe. Remove '@', links, punctuation and stopwords. Also tokenize the string\n",
    "\n",
    "    Params:\n",
    "        df - dataframe to be cleaned\n",
    "    Returns:\n",
    "        Cleaned dataframe\n",
    "    '''\n",
    "    \n",
    "    df = df_base.copy(deep=True)\n",
    "    #Remove @names\n",
    "    df['clean'] = df[column].str.replace(r'@[A-Za-z0-9_]+', '', regex=True)\n",
    "    df['clean'] = df['clean'].str.replace(r'http\\S+', '', regex=True)\n",
    "    \n",
    "    #Remove space\n",
    "    df['clean'] = df['clean'].map(lambda x: re.sub('\\n', ' ', x))\n",
    "    \n",
    "    #Remove numbers\n",
    "    df['clean'] = df['clean'].map(lambda x: re.sub(r'\\d', '', x))\n",
    "    \n",
    "    # Remove punctuation\n",
    "    df['clean'] = df['clean'].map(lambda x: re.sub('[,\\.!?]\"', ' ', x))\n",
    "    \n",
    "    # Convert the titles to lowercase\n",
    "    df['clean'] = df['clean'].map(lambda x: x.lower())\n",
    "    \n",
    "    df['clean'] = df['clean'].apply(word_tokenize)\n",
    "    \n",
    "    df['clean'] = df['clean'].apply(lambda x: [item for item in x if item.isalpha()])\n",
    "    \n",
    "    lemmatizer = WordNetLemmatizer()\n",
    "    df['clean'] = df['clean'].apply(lambda x: [lemmatizer.lemmatize(item) for item in x])\n",
    "    \n",
    "    df['clean'] = df['clean'].apply(lambda x: ' '.join(x))\n",
    "    \n",
    "    df['text_clean'] = df['clean'].astype(str)\n",
    "    \n",
    "    return df.drop([\"Date\",\"clean\"], axis=1)"
   ]
  },
  {
   "cell_type": "code",
   "execution_count": 5,
   "metadata": {},
   "outputs": [],
   "source": [
    "def decontracted(phrase):\n",
    "    # specific\n",
    "    phrase = re.sub(r\"won't\", \"will not\", phrase)\n",
    "    phrase = re.sub(r\"can\\'t\", \"can not\", phrase)\n",
    "\n",
    "    # general\n",
    "    phrase = re.sub(r\"n\\'t\", \" not\", phrase)\n",
    "    phrase = re.sub(r\"\\'re\", \" are\", phrase)\n",
    "    phrase = re.sub(r\"\\'s\", \" is\", phrase)\n",
    "    phrase = re.sub(r\"\\'d\", \" would\", phrase)\n",
    "    phrase = re.sub(r\"\\'ll\", \" will\", phrase)\n",
    "    phrase = re.sub(r\"\\'t\", \" not\", phrase)\n",
    "    phrase = re.sub(r\"\\'ve\", \" have\", phrase)\n",
    "    phrase = re.sub(r\"\\'m\", \" am\", phrase)\n",
    "    phrase = re.sub(r\" u \", \" you \", phrase)\n",
    "    return phrase"
   ]
  },
  {
   "cell_type": "code",
   "execution_count": 6,
   "metadata": {},
   "outputs": [],
   "source": [
    "def clean_df(df_base, column):\n",
    "    '''Cleaning column 'text' of a dataframe. Remove '@', links, punctuation and stopwords. Also tokenize the string\n",
    "\n",
    "    Params:\n",
    "        df - dataframe to be cleaned\n",
    "    Returns:\n",
    "        Cleaned dataframe\n",
    "    '''\n",
    "    \n",
    "    df = df_base.copy(deep=True)\n",
    "    \n",
    "    df['clean'] = df[\"Comment\"].str.replace(r'@[A-Za-z0-9_]+', '', regex=True)\n",
    "    df['clean'] = df['clean'].str.replace(r'http\\S+', '', regex=True)\n",
    "    df['clean'] = df['clean'].map(lambda x: x.lower())\n",
    "\n",
    "    delete = ['\\\\n', '\\\\xa0', '\\\\xc2', '\\\\', '\"', '[', ']', ',', '...', '(', ')', ';', ':']\n",
    "\n",
    "    for caracter in delete:\n",
    "        df['clean'] = df['clean'].map(lambda x: x.replace(caracter, ' '))\n",
    "        \n",
    "    df['clean'] = df['clean'].map(lambda x: re.sub(r'\\d', ' ', x))\n",
    "    \n",
    "    df['clean'] = df['clean'].map(lambda x: decontracted(x))\n",
    "    \n",
    "    df['clean'] = df['clean'].map(lambda x: x.replace(\"'\", ' '))\n",
    "    \n",
    "    df['clean'] = df['clean'].apply(word_tokenize)\n",
    "    \n",
    "    df['clean'] = df['clean'].apply(lambda x: [item for item in x if item.isalpha()])\n",
    "    \n",
    "    lemmatizer = WordNetLemmatizer()\n",
    "    df['clean'] = df['clean'].apply(lambda x: [lemmatizer.lemmatize(item) for item in x])\n",
    "    \n",
    "    df['clean'] = df['clean'].apply(lambda x: ' '.join(x))\n",
    "    \n",
    "    df['text_clean'] = df['clean'].astype(str)\n",
    "    \n",
    "    return df.drop([\"Date\",\"clean\"], axis=1)"
   ]
  },
  {
   "cell_type": "code",
   "execution_count": 7,
   "metadata": {},
   "outputs": [],
   "source": [
    "df_clean = clean_df(train, \"Comment\").drop(4)"
   ]
  },
  {
   "cell_type": "code",
   "execution_count": 8,
   "metadata": {},
   "outputs": [
    {
     "data": {
      "text/html": [
       "<div>\n",
       "<style scoped>\n",
       "    .dataframe tbody tr th:only-of-type {\n",
       "        vertical-align: middle;\n",
       "    }\n",
       "\n",
       "    .dataframe tbody tr th {\n",
       "        vertical-align: top;\n",
       "    }\n",
       "\n",
       "    .dataframe thead th {\n",
       "        text-align: right;\n",
       "    }\n",
       "</style>\n",
       "<table border=\"1\" class=\"dataframe\">\n",
       "  <thead>\n",
       "    <tr style=\"text-align: right;\">\n",
       "      <th></th>\n",
       "      <th>Insult</th>\n",
       "      <th>Comment</th>\n",
       "      <th>text_clean</th>\n",
       "    </tr>\n",
       "  </thead>\n",
       "  <tbody>\n",
       "    <tr>\n",
       "      <th>0</th>\n",
       "      <td>1</td>\n",
       "      <td>\"You fuck your dad.\"</td>\n",
       "      <td>you fuck your dad</td>\n",
       "    </tr>\n",
       "    <tr>\n",
       "      <th>1</th>\n",
       "      <td>0</td>\n",
       "      <td>\"i really don't understand your point.\\xa0 It ...</td>\n",
       "      <td>i really do not understand your point it seems...</td>\n",
       "    </tr>\n",
       "    <tr>\n",
       "      <th>2</th>\n",
       "      <td>0</td>\n",
       "      <td>\"A\\\\xc2\\\\xa0majority of Canadians can and has ...</td>\n",
       "      <td>a majority of canadian can and ha been wrong b...</td>\n",
       "    </tr>\n",
       "    <tr>\n",
       "      <th>3</th>\n",
       "      <td>0</td>\n",
       "      <td>\"listen if you dont wanna get married to a man...</td>\n",
       "      <td>listen if you dont wan na get married to a man...</td>\n",
       "    </tr>\n",
       "    <tr>\n",
       "      <th>5</th>\n",
       "      <td>0</td>\n",
       "      <td>\"@SDL OK, but I would hope they'd sign him to ...</td>\n",
       "      <td>ok but i would hope they would sign him to a c...</td>\n",
       "    </tr>\n",
       "    <tr>\n",
       "      <th>6</th>\n",
       "      <td>0</td>\n",
       "      <td>\"Yeah and where are you now?\"</td>\n",
       "      <td>yeah and where are you now</td>\n",
       "    </tr>\n",
       "    <tr>\n",
       "      <th>7</th>\n",
       "      <td>1</td>\n",
       "      <td>\"shut the fuck up. you and the rest of your fa...</td>\n",
       "      <td>shut the fuck up you and the rest of your fagg...</td>\n",
       "    </tr>\n",
       "    <tr>\n",
       "      <th>8</th>\n",
       "      <td>1</td>\n",
       "      <td>\"Either you are fake or extremely stupid...may...</td>\n",
       "      <td>either you are fake or extremely stupid maybe ...</td>\n",
       "    </tr>\n",
       "  </tbody>\n",
       "</table>\n",
       "</div>"
      ],
      "text/plain": [
       "   Insult                                            Comment  \\\n",
       "0       1                               \"You fuck your dad.\"   \n",
       "1       0  \"i really don't understand your point.\\xa0 It ...   \n",
       "2       0  \"A\\\\xc2\\\\xa0majority of Canadians can and has ...   \n",
       "3       0  \"listen if you dont wanna get married to a man...   \n",
       "5       0  \"@SDL OK, but I would hope they'd sign him to ...   \n",
       "6       0                      \"Yeah and where are you now?\"   \n",
       "7       1  \"shut the fuck up. you and the rest of your fa...   \n",
       "8       1  \"Either you are fake or extremely stupid...may...   \n",
       "\n",
       "                                          text_clean  \n",
       "0                                  you fuck your dad  \n",
       "1  i really do not understand your point it seems...  \n",
       "2  a majority of canadian can and ha been wrong b...  \n",
       "3  listen if you dont wan na get married to a man...  \n",
       "5  ok but i would hope they would sign him to a c...  \n",
       "6                         yeah and where are you now  \n",
       "7  shut the fuck up you and the rest of your fagg...  \n",
       "8  either you are fake or extremely stupid maybe ...  "
      ]
     },
     "execution_count": 8,
     "metadata": {},
     "output_type": "execute_result"
    }
   ],
   "source": [
    "df_clean.head(8)"
   ]
  },
  {
   "cell_type": "code",
   "execution_count": 9,
   "metadata": {},
   "outputs": [],
   "source": [
    "df_clean1 = df_clean.drop([\"Comment\"], axis=1)"
   ]
  },
  {
   "cell_type": "code",
   "execution_count": 10,
   "metadata": {},
   "outputs": [
    {
     "name": "stdout",
     "output_type": "stream",
     "text": [
      "(2762, 2)\n",
      "(1184, 2)\n"
     ]
    }
   ],
   "source": [
    "df_train, df_val = train_test_split(df_clean1, test_size=0.30, random_state=42)\n",
    "\n",
    "print(df_train.shape)\n",
    "print(df_val.shape)"
   ]
  },
  {
   "cell_type": "code",
   "execution_count": 11,
   "metadata": {},
   "outputs": [],
   "source": [
    "test = pd.read_csv(\"../../data_Kaggle/test_with_solutions.csv\")"
   ]
  },
  {
   "cell_type": "code",
   "execution_count": 12,
   "metadata": {},
   "outputs": [],
   "source": [
    "df_test_clean = clean_df(test, \"Comment\")\n",
    "df_test = df_test_clean.drop([\"Comment\", 'Usage'], axis=1)"
   ]
  },
  {
   "cell_type": "code",
   "execution_count": 13,
   "metadata": {},
   "outputs": [],
   "source": [
    "df_train.to_csv(\"../../data_models/df_train.csv\", index=False)\n",
    "df_val.to_csv(\"../../data_models/df_val.csv\", index=False)\n",
    "df_test.to_csv(\"../../data_models/df_test.csv\", index=False)"
   ]
  },
  {
   "attachments": {},
   "cell_type": "markdown",
   "metadata": {},
   "source": [
    "# Undersampling Train Dataset"
   ]
  },
  {
   "cell_type": "code",
   "execution_count": 14,
   "metadata": {},
   "outputs": [],
   "source": [
    "shuffled_df = df_train.sample(frac=1,random_state=4)\n",
    "\n",
    "# Put all the fraud class in a separate dataset.\n",
    "insult_df = shuffled_df.loc[shuffled_df['Insult'] == 1]\n",
    "\n",
    "#Randomly select 492 observations from the non-fraud (majority class)\n",
    "non_insult_df = shuffled_df.loc[shuffled_df['Insult'] == 0].sample(n=732,random_state=42)\n",
    "\n",
    "# Concatenate both dataframes again\n",
    "normalized_df = pd.concat([insult_df, non_insult_df])"
   ]
  },
  {
   "cell_type": "code",
   "execution_count": 15,
   "metadata": {},
   "outputs": [
    {
     "data": {
      "text/plain": [
       "Text(0.5, 1.0, 'Distribution des classes après undersampling (Train Dataset)')"
      ]
     },
     "execution_count": 15,
     "metadata": {},
     "output_type": "execute_result"
    },
    {
     "data": {
      "image/png": "[encoded data removed]",
      "text/plain": [
       "<Figure size 640x480 with 1 Axes>"
      ]
     },
     "metadata": {},
     "output_type": "display_data"
    }
   ],
   "source": [
    "sns.countplot(data=normalized_df, x=\"Insult\")\n",
    "plt.title(\"Distribution des classes après undersampling (Train Dataset)\")"
   ]
  },
  {
   "cell_type": "code",
   "execution_count": 16,
   "metadata": {},
   "outputs": [],
   "source": [
    "#normalized_df.to_csv(\"../../data_models/df_train_undersampling.csv\", index=False)"
   ]
  },
  {
   "cell_type": "code",
   "execution_count": null,
   "metadata": {},
   "outputs": [],
   "source": []
  }
 ],
 "metadata": {
  "kernelspec": {
   "display_name": "tf2",
   "language": "python",
   "name": "python3"
  },
  "language_info": {
   "codemirror_mode": {
    "name": "ipython",
    "version": 3
   },
   "file_extension": ".py",
   "mimetype": "text/x-python",
   "name": "python",
   "nbconvert_exporter": "python",
   "pygments_lexer": "ipython3",
   "version": "3.7.16"
  },
  "orig_nbformat": 4
 },
 "nbformat": 4,
 "nbformat_minor": 2
}
